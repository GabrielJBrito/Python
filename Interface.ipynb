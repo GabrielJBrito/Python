{
 "cells": [
  {
   "cell_type": "code",
   "execution_count": 1,
   "metadata": {},
   "outputs": [],
   "source": [
    "import tkinter as tk\n"
   ]
  },
  {
   "cell_type": "code",
   "execution_count": 6,
   "metadata": {},
   "outputs": [],
   "source": [
    "def on_button_click():\n",
    "    label.config(text=\"Olá, mundo!\")\n",
    "\n",
    "app = tk.Tk()\n",
    "app.title(\"Minha Interface Gráfica\")\n",
    "\n",
    "label = tk.Label(app, text=\"Bem-vindo à minha interface!\")\n",
    "label.pack()\n",
    "\n",
    "button = tk.Button(app, text=\"Clique aqui\", command=on_button_click)\n",
    "button.pack()\n",
    "\n",
    "app.mainloop()"
   ]
  },
  {
   "cell_type": "code",
   "execution_count": 4,
   "metadata": {},
   "outputs": [],
   "source": [
    "import sys\n",
    "from PyQt5.QtWidgets import QApplication, QWidget, QLabel, QPushButton\n",
    "\n"
   ]
  },
  {
   "cell_type": "code",
   "execution_count": 7,
   "metadata": {},
   "outputs": [
    {
     "ename": "SystemExit",
     "evalue": "0",
     "output_type": "error",
     "traceback": [
      "An exception has occurred, use %tb to see the full traceback.\n",
      "\u001b[1;31mSystemExit\u001b[0m\u001b[1;31m:\u001b[0m 0\n"
     ]
    }
   ],
   "source": [
    "def on_button_click():\n",
    "    label.setText(\"Olá, mundo!\")\n",
    "\n",
    "app = QApplication(sys.argv)\n",
    "window = QWidget()\n",
    "window.setWindowTitle(\"Minha Interface Gráfica\")\n",
    "\n",
    "label = QLabel(\"Bem-vindo à minha interface!\", parent=window)\n",
    "label.move(50, 50)\n",
    "\n",
    "button = QPushButton(\"Clique aqui\", parent=window)\n",
    "button.move(50, 100)\n",
    "button.clicked.connect(on_button_click)\n",
    "\n",
    "window.setGeometry(100, 100, 300, 200)\n",
    "window.show()\n",
    "\n",
    "sys.exit(app.exec_())"
   ]
  }
 ],
 "metadata": {
  "kernelspec": {
   "display_name": "Python 3",
   "language": "python",
   "name": "python3"
  },
  "language_info": {
   "codemirror_mode": {
    "name": "ipython",
    "version": 3
   },
   "file_extension": ".py",
   "mimetype": "text/x-python",
   "name": "python",
   "nbconvert_exporter": "python",
   "pygments_lexer": "ipython3",
   "version": "3.11.4"
  },
  "orig_nbformat": 4
 },
 "nbformat": 4,
 "nbformat_minor": 2
}
